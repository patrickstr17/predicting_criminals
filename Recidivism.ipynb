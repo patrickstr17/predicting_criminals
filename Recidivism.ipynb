{
  "nbformat": 4,
  "nbformat_minor": 0,
  "metadata": {
    "colab": {
      "provenance": [],
      "toc_visible": true,
      "gpuType": "T4",
      "authorship_tag": "ABX9TyMiyWBlBnYmDucHSkBZR5Pw",
      "include_colab_link": true
    },
    "kernelspec": {
      "name": "python3",
      "display_name": "Python 3"
    },
    "language_info": {
      "name": "python"
    },
    "accelerator": "GPU"
  },
  "cells": [
    {
      "cell_type": "markdown",
      "metadata": {
        "id": "view-in-github",
        "colab_type": "text"
      },
      "source": [
        "<a href=\"https://colab.research.google.com/github/patrickstr17/predicting_criminals/blob/main/Recidivism.ipynb\" target=\"_parent\"><img src=\"https://colab.research.google.com/assets/colab-badge.svg\" alt=\"Open In Colab\"/></a>"
      ]
    },
    {
      "cell_type": "markdown",
      "source": [
        "##Libraries\n",
        "\n"
      ],
      "metadata": {
        "id": "AvdpECpct-N6"
      }
    },
    {
      "cell_type": "code",
      "execution_count": null,
      "metadata": {
        "id": "G5gtBOTtY2x6"
      },
      "outputs": [],
      "source": [
        "# Importing models\n",
        "import pandas as pd\n",
        "from sklearn.preprocessing import LabelEncoder\n",
        "from sklearn.impute import SimpleImputer\n",
        "from sklearn.model_selection import train_test_split\n",
        "from sklearn.metrics import confusion_matrix\n",
        "from sklearn.metrics import classification_report\n",
        "from sklearn.model_selection import GridSearchCV\n",
        "from sklearn.metrics import accuracy_score, precision_score, recall_score, f1_score\n",
        "from sklearn.ensemble import StackingClassifier\n",
        "from sklearn.pipeline import Pipeline\n",
        "from sklearn.preprocessing import StandardScaler\n",
        "from imblearn.over_sampling import SMOTE\n",
        "from sklearn.ensemble import VotingClassifier\n",
        "from xgboost import XGBClassifier\n",
        "import lightgbm as lgb\n",
        "import re\n",
        "from lightgbm import LGBMClassifier\n",
        "from sklearn.neural_network import MLPClassifier\n",
        "from sklearn.tree import DecisionTreeClassifier\n",
        "from sklearn.ensemble import RandomForestClassifier, GradientBoostingClassifier\n",
        "from sklearn.linear_model import LogisticRegression\n",
        "from sklearn.svm import SVC"
      ]
    },
    {
      "cell_type": "markdown",
      "source": [
        "##Ingest Data"
      ],
      "metadata": {
        "id": "zT7_g5QGuJsh"
      }
    },
    {
      "cell_type": "code",
      "source": [
        "# Load the dataset\n",
        "file_path = '/content/3-Year_Recidivism_for_Offenders_Released_from_Prison_in_Iowa_elaborated.csv'\n",
        "data = pd.read_csv(file_path)\n"
      ],
      "metadata": {
        "id": "7OYQotVIZM4f"
      },
      "execution_count": null,
      "outputs": []
    },
    {
      "cell_type": "markdown",
      "source": [
        "##EDA"
      ],
      "metadata": {
        "id": "EVX00l6duN74"
      }
    },
    {
      "cell_type": "code",
      "source": [
        "# Display the first few rows and the column information\n",
        "data.head()"
      ],
      "metadata": {
        "colab": {
          "base_uri": "https://localhost:8080/"
        },
        "id": "DEk-6sY5ZUki",
        "outputId": "36b1fd7e-9aa0-4591-dbb8-36f09759e8e4"
      },
      "execution_count": null,
      "outputs": [
        {
          "output_type": "stream",
          "name": "stdout",
          "text": [
            "<class 'pandas.core.frame.DataFrame'>\n",
            "RangeIndex: 26020 entries, 0 to 26019\n",
            "Data columns (total 12 columns):\n",
            " #   Column                                     Non-Null Count  Dtype \n",
            "---  ------                                     --------------  ----- \n",
            " 0   Fiscal Year Released                       26020 non-null  int64 \n",
            " 1   Recidivism Reporting Year                  26020 non-null  int64 \n",
            " 2   Race - Ethnicity                           25990 non-null  object\n",
            " 3   Age At Release                             26017 non-null  object\n",
            " 4   Convicting Offense Classification          26020 non-null  object\n",
            " 5   Convicting Offense Type                    26020 non-null  object\n",
            " 6   Convicting Offense Subtype                 26020 non-null  object\n",
            " 7   Main Supervising District                  16439 non-null  object\n",
            " 8   Release Type                               24258 non-null  object\n",
            " 9   Release type: Paroled to Detainder united  24258 non-null  object\n",
            " 10  Part of Target Population                  26020 non-null  object\n",
            " 11  Recidivism - Return to Prison numeric      26020 non-null  int64 \n",
            "dtypes: int64(3), object(9)\n",
            "memory usage: 2.4+ MB\n"
          ]
        },
        {
          "output_type": "execute_result",
          "data": {
            "text/plain": [
              "(   Fiscal Year Released  Recidivism Reporting Year      Race - Ethnicity  \\\n",
              " 0                  2010                       2013  White - Non-Hispanic   \n",
              " 1                  2010                       2013  White - Non-Hispanic   \n",
              " 2                  2010                       2013  White - Non-Hispanic   \n",
              " 3                  2010                       2013  White - Non-Hispanic   \n",
              " 4                  2010                       2013  Black - Non-Hispanic   \n",
              " \n",
              "   Age At Release  Convicting Offense Classification Convicting Offense Type  \\\n",
              " 0        Under 25                          D Felony                 Violent   \n",
              " 1    55 and Older                          D Felony            Public Order   \n",
              " 2           25-34                          D Felony                Property   \n",
              " 3    55 and Older                          C Felony                    Drug   \n",
              " 4           25-34                          D Felony                    Drug   \n",
              " \n",
              "   Convicting Offense Subtype Main Supervising District Release Type  \\\n",
              " 0                    Assault                       4JD       Parole   \n",
              " 1                        OWI                       7JD       Parole   \n",
              " 2                   Burglary                       5JD       Parole   \n",
              " 3                Trafficking                       8JD       Parole   \n",
              " 4                Trafficking                       3JD       Parole   \n",
              " \n",
              "   Release type: Paroled to Detainder united Part of Target Population  \\\n",
              " 0                                    Parole                       Yes   \n",
              " 1                                    Parole                       Yes   \n",
              " 2                                    Parole                       Yes   \n",
              " 3                                    Parole                       Yes   \n",
              " 4                                    Parole                       Yes   \n",
              " \n",
              "    Recidivism - Return to Prison numeric  \n",
              " 0                                      1  \n",
              " 1                                      1  \n",
              " 2                                      1  \n",
              " 3                                      1  \n",
              " 4                                      1  ,\n",
              " None)"
            ]
          },
          "metadata": {},
          "execution_count": 6
        }
      ]
    },
    {
      "cell_type": "code",
      "source": [
        "data.info()"
      ],
      "metadata": {
        "id": "I8zAc_Q6xLC3"
      },
      "execution_count": null,
      "outputs": []
    },
    {
      "cell_type": "code",
      "source": [
        "data.describe"
      ],
      "metadata": {
        "colab": {
          "base_uri": "https://localhost:8080/",
          "height": 141
        },
        "id": "BOGsqIkAvi1q",
        "outputId": "56de5060-9251-42c3-aa6c-94826a8d613f"
      },
      "execution_count": 1,
      "outputs": [
        {
          "output_type": "error",
          "ename": "NameError",
          "evalue": "name 'data' is not defined",
          "traceback": [
            "\u001b[0;31m---------------------------------------------------------------------------\u001b[0m",
            "\u001b[0;31mNameError\u001b[0m                                 Traceback (most recent call last)",
            "\u001b[0;32m<ipython-input-1-0337633dafa7>\u001b[0m in \u001b[0;36m<cell line: 1>\u001b[0;34m()\u001b[0m\n\u001b[0;32m----> 1\u001b[0;31m \u001b[0mdata\u001b[0m\u001b[0;34m.\u001b[0m\u001b[0mdescribe\u001b[0m\u001b[0;34m\u001b[0m\u001b[0;34m\u001b[0m\u001b[0m\n\u001b[0m",
            "\u001b[0;31mNameError\u001b[0m: name 'data' is not defined"
          ]
        }
      ]
    },
    {
      "cell_type": "code",
      "source": [
        "data.shape"
      ],
      "metadata": {
        "id": "I76iGHpgxGMe"
      },
      "execution_count": null,
      "outputs": []
    },
    {
      "cell_type": "code",
      "source": [
        "data.columns"
      ],
      "metadata": {
        "id": "LF40Gv06xHWl"
      },
      "execution_count": null,
      "outputs": []
    },
    {
      "cell_type": "code",
      "source": [
        "# Handling missing values\n",
        "# For categorical variables, we can use the most frequent value imputation\n",
        "imputer = SimpleImputer(strategy='most_frequent')\n",
        "data_imputed = pd.DataFrame(imputer.fit_transform(data), columns=data.columns)\n",
        "\n",
        "# Encoding categorical variables\n",
        "label_encoders = {}\n",
        "for column in data_imputed.select_dtypes(include=['object']).columns:\n",
        "    le = LabelEncoder()\n",
        "    data_imputed[column] = le.fit_transform(data_imputed[column])\n",
        "    label_encoders[column] = le\n",
        "\n",
        "# Display the transformed data\n",
        "data_imputed.head()"
      ],
      "metadata": {
        "colab": {
          "base_uri": "https://localhost:8080/",
          "height": 276
        },
        "id": "YOlJRxwfZmJ6",
        "outputId": "7a077d01-869f-4265-a757-ce2b5a5bb44b"
      },
      "execution_count": null,
      "outputs": [
        {
          "output_type": "execute_result",
          "data": {
            "text/plain": [
              "   Fiscal Year Released  Recidivism Reporting Year  Race - Ethnicity  \\\n",
              "0                     0                          0                10   \n",
              "1                     0                          0                10   \n",
              "2                     0                          0                10   \n",
              "3                     0                          0                10   \n",
              "4                     0                          0                 6   \n",
              "\n",
              "   Age At Release   Convicting Offense Classification  \\\n",
              "0                4                                  4   \n",
              "1                3                                  4   \n",
              "2                0                                  4   \n",
              "3                3                                  3   \n",
              "4                0                                  4   \n",
              "\n",
              "   Convicting Offense Type  Convicting Offense Subtype  \\\n",
              "0                        4                           3   \n",
              "1                        3                          10   \n",
              "2                        2                           4   \n",
              "3                        0                          23   \n",
              "4                        0                          23   \n",
              "\n",
              "   Main Supervising District  Release Type  \\\n",
              "0                          3             2   \n",
              "1                          6             2   \n",
              "2                          4             2   \n",
              "3                          7             2   \n",
              "4                          2             2   \n",
              "\n",
              "   Release type: Paroled to Detainder united  Part of Target Population  \\\n",
              "0                                          1                          1   \n",
              "1                                          1                          1   \n",
              "2                                          1                          1   \n",
              "3                                          1                          1   \n",
              "4                                          1                          1   \n",
              "\n",
              "   Recidivism - Return to Prison numeric  \n",
              "0                                      1  \n",
              "1                                      1  \n",
              "2                                      1  \n",
              "3                                      1  \n",
              "4                                      1  "
            ],
            "text/html": [
              "\n",
              "  <div id=\"df-e7ab6c9a-df0e-4f2e-aaaf-d7821ea0af8f\" class=\"colab-df-container\">\n",
              "    <div>\n",
              "<style scoped>\n",
              "    .dataframe tbody tr th:only-of-type {\n",
              "        vertical-align: middle;\n",
              "    }\n",
              "\n",
              "    .dataframe tbody tr th {\n",
              "        vertical-align: top;\n",
              "    }\n",
              "\n",
              "    .dataframe thead th {\n",
              "        text-align: right;\n",
              "    }\n",
              "</style>\n",
              "<table border=\"1\" class=\"dataframe\">\n",
              "  <thead>\n",
              "    <tr style=\"text-align: right;\">\n",
              "      <th></th>\n",
              "      <th>Fiscal Year Released</th>\n",
              "      <th>Recidivism Reporting Year</th>\n",
              "      <th>Race - Ethnicity</th>\n",
              "      <th>Age At Release</th>\n",
              "      <th>Convicting Offense Classification</th>\n",
              "      <th>Convicting Offense Type</th>\n",
              "      <th>Convicting Offense Subtype</th>\n",
              "      <th>Main Supervising District</th>\n",
              "      <th>Release Type</th>\n",
              "      <th>Release type: Paroled to Detainder united</th>\n",
              "      <th>Part of Target Population</th>\n",
              "      <th>Recidivism - Return to Prison numeric</th>\n",
              "    </tr>\n",
              "  </thead>\n",
              "  <tbody>\n",
              "    <tr>\n",
              "      <th>0</th>\n",
              "      <td>0</td>\n",
              "      <td>0</td>\n",
              "      <td>10</td>\n",
              "      <td>4</td>\n",
              "      <td>4</td>\n",
              "      <td>4</td>\n",
              "      <td>3</td>\n",
              "      <td>3</td>\n",
              "      <td>2</td>\n",
              "      <td>1</td>\n",
              "      <td>1</td>\n",
              "      <td>1</td>\n",
              "    </tr>\n",
              "    <tr>\n",
              "      <th>1</th>\n",
              "      <td>0</td>\n",
              "      <td>0</td>\n",
              "      <td>10</td>\n",
              "      <td>3</td>\n",
              "      <td>4</td>\n",
              "      <td>3</td>\n",
              "      <td>10</td>\n",
              "      <td>6</td>\n",
              "      <td>2</td>\n",
              "      <td>1</td>\n",
              "      <td>1</td>\n",
              "      <td>1</td>\n",
              "    </tr>\n",
              "    <tr>\n",
              "      <th>2</th>\n",
              "      <td>0</td>\n",
              "      <td>0</td>\n",
              "      <td>10</td>\n",
              "      <td>0</td>\n",
              "      <td>4</td>\n",
              "      <td>2</td>\n",
              "      <td>4</td>\n",
              "      <td>4</td>\n",
              "      <td>2</td>\n",
              "      <td>1</td>\n",
              "      <td>1</td>\n",
              "      <td>1</td>\n",
              "    </tr>\n",
              "    <tr>\n",
              "      <th>3</th>\n",
              "      <td>0</td>\n",
              "      <td>0</td>\n",
              "      <td>10</td>\n",
              "      <td>3</td>\n",
              "      <td>3</td>\n",
              "      <td>0</td>\n",
              "      <td>23</td>\n",
              "      <td>7</td>\n",
              "      <td>2</td>\n",
              "      <td>1</td>\n",
              "      <td>1</td>\n",
              "      <td>1</td>\n",
              "    </tr>\n",
              "    <tr>\n",
              "      <th>4</th>\n",
              "      <td>0</td>\n",
              "      <td>0</td>\n",
              "      <td>6</td>\n",
              "      <td>0</td>\n",
              "      <td>4</td>\n",
              "      <td>0</td>\n",
              "      <td>23</td>\n",
              "      <td>2</td>\n",
              "      <td>2</td>\n",
              "      <td>1</td>\n",
              "      <td>1</td>\n",
              "      <td>1</td>\n",
              "    </tr>\n",
              "  </tbody>\n",
              "</table>\n",
              "</div>\n",
              "    <div class=\"colab-df-buttons\">\n",
              "\n",
              "  <div class=\"colab-df-container\">\n",
              "    <button class=\"colab-df-convert\" onclick=\"convertToInteractive('df-e7ab6c9a-df0e-4f2e-aaaf-d7821ea0af8f')\"\n",
              "            title=\"Convert this dataframe to an interactive table.\"\n",
              "            style=\"display:none;\">\n",
              "\n",
              "  <svg xmlns=\"http://www.w3.org/2000/svg\" height=\"24px\" viewBox=\"0 -960 960 960\">\n",
              "    <path d=\"M120-120v-720h720v720H120Zm60-500h600v-160H180v160Zm220 220h160v-160H400v160Zm0 220h160v-160H400v160ZM180-400h160v-160H180v160Zm440 0h160v-160H620v160ZM180-180h160v-160H180v160Zm440 0h160v-160H620v160Z\"/>\n",
              "  </svg>\n",
              "    </button>\n",
              "\n",
              "  <style>\n",
              "    .colab-df-container {\n",
              "      display:flex;\n",
              "      gap: 12px;\n",
              "    }\n",
              "\n",
              "    .colab-df-convert {\n",
              "      background-color: #E8F0FE;\n",
              "      border: none;\n",
              "      border-radius: 50%;\n",
              "      cursor: pointer;\n",
              "      display: none;\n",
              "      fill: #1967D2;\n",
              "      height: 32px;\n",
              "      padding: 0 0 0 0;\n",
              "      width: 32px;\n",
              "    }\n",
              "\n",
              "    .colab-df-convert:hover {\n",
              "      background-color: #E2EBFA;\n",
              "      box-shadow: 0px 1px 2px rgba(60, 64, 67, 0.3), 0px 1px 3px 1px rgba(60, 64, 67, 0.15);\n",
              "      fill: #174EA6;\n",
              "    }\n",
              "\n",
              "    .colab-df-buttons div {\n",
              "      margin-bottom: 4px;\n",
              "    }\n",
              "\n",
              "    [theme=dark] .colab-df-convert {\n",
              "      background-color: #3B4455;\n",
              "      fill: #D2E3FC;\n",
              "    }\n",
              "\n",
              "    [theme=dark] .colab-df-convert:hover {\n",
              "      background-color: #434B5C;\n",
              "      box-shadow: 0px 1px 3px 1px rgba(0, 0, 0, 0.15);\n",
              "      filter: drop-shadow(0px 1px 2px rgba(0, 0, 0, 0.3));\n",
              "      fill: #FFFFFF;\n",
              "    }\n",
              "  </style>\n",
              "\n",
              "    <script>\n",
              "      const buttonEl =\n",
              "        document.querySelector('#df-e7ab6c9a-df0e-4f2e-aaaf-d7821ea0af8f button.colab-df-convert');\n",
              "      buttonEl.style.display =\n",
              "        google.colab.kernel.accessAllowed ? 'block' : 'none';\n",
              "\n",
              "      async function convertToInteractive(key) {\n",
              "        const element = document.querySelector('#df-e7ab6c9a-df0e-4f2e-aaaf-d7821ea0af8f');\n",
              "        const dataTable =\n",
              "          await google.colab.kernel.invokeFunction('convertToInteractive',\n",
              "                                                    [key], {});\n",
              "        if (!dataTable) return;\n",
              "\n",
              "        const docLinkHtml = 'Like what you see? Visit the ' +\n",
              "          '<a target=\"_blank\" href=https://colab.research.google.com/notebooks/data_table.ipynb>data table notebook</a>'\n",
              "          + ' to learn more about interactive tables.';\n",
              "        element.innerHTML = '';\n",
              "        dataTable['output_type'] = 'display_data';\n",
              "        await google.colab.output.renderOutput(dataTable, element);\n",
              "        const docLink = document.createElement('div');\n",
              "        docLink.innerHTML = docLinkHtml;\n",
              "        element.appendChild(docLink);\n",
              "      }\n",
              "    </script>\n",
              "  </div>\n",
              "\n",
              "\n",
              "<div id=\"df-4b99bdd7-02a9-42ea-bd3c-79b737a4352b\">\n",
              "  <button class=\"colab-df-quickchart\" onclick=\"quickchart('df-4b99bdd7-02a9-42ea-bd3c-79b737a4352b')\"\n",
              "            title=\"Suggest charts\"\n",
              "            style=\"display:none;\">\n",
              "\n",
              "<svg xmlns=\"http://www.w3.org/2000/svg\" height=\"24px\"viewBox=\"0 0 24 24\"\n",
              "     width=\"24px\">\n",
              "    <g>\n",
              "        <path d=\"M19 3H5c-1.1 0-2 .9-2 2v14c0 1.1.9 2 2 2h14c1.1 0 2-.9 2-2V5c0-1.1-.9-2-2-2zM9 17H7v-7h2v7zm4 0h-2V7h2v10zm4 0h-2v-4h2v4z\"/>\n",
              "    </g>\n",
              "</svg>\n",
              "  </button>\n",
              "\n",
              "<style>\n",
              "  .colab-df-quickchart {\n",
              "      --bg-color: #E8F0FE;\n",
              "      --fill-color: #1967D2;\n",
              "      --hover-bg-color: #E2EBFA;\n",
              "      --hover-fill-color: #174EA6;\n",
              "      --disabled-fill-color: #AAA;\n",
              "      --disabled-bg-color: #DDD;\n",
              "  }\n",
              "\n",
              "  [theme=dark] .colab-df-quickchart {\n",
              "      --bg-color: #3B4455;\n",
              "      --fill-color: #D2E3FC;\n",
              "      --hover-bg-color: #434B5C;\n",
              "      --hover-fill-color: #FFFFFF;\n",
              "      --disabled-bg-color: #3B4455;\n",
              "      --disabled-fill-color: #666;\n",
              "  }\n",
              "\n",
              "  .colab-df-quickchart {\n",
              "    background-color: var(--bg-color);\n",
              "    border: none;\n",
              "    border-radius: 50%;\n",
              "    cursor: pointer;\n",
              "    display: none;\n",
              "    fill: var(--fill-color);\n",
              "    height: 32px;\n",
              "    padding: 0;\n",
              "    width: 32px;\n",
              "  }\n",
              "\n",
              "  .colab-df-quickchart:hover {\n",
              "    background-color: var(--hover-bg-color);\n",
              "    box-shadow: 0 1px 2px rgba(60, 64, 67, 0.3), 0 1px 3px 1px rgba(60, 64, 67, 0.15);\n",
              "    fill: var(--button-hover-fill-color);\n",
              "  }\n",
              "\n",
              "  .colab-df-quickchart-complete:disabled,\n",
              "  .colab-df-quickchart-complete:disabled:hover {\n",
              "    background-color: var(--disabled-bg-color);\n",
              "    fill: var(--disabled-fill-color);\n",
              "    box-shadow: none;\n",
              "  }\n",
              "\n",
              "  .colab-df-spinner {\n",
              "    border: 2px solid var(--fill-color);\n",
              "    border-color: transparent;\n",
              "    border-bottom-color: var(--fill-color);\n",
              "    animation:\n",
              "      spin 1s steps(1) infinite;\n",
              "  }\n",
              "\n",
              "  @keyframes spin {\n",
              "    0% {\n",
              "      border-color: transparent;\n",
              "      border-bottom-color: var(--fill-color);\n",
              "      border-left-color: var(--fill-color);\n",
              "    }\n",
              "    20% {\n",
              "      border-color: transparent;\n",
              "      border-left-color: var(--fill-color);\n",
              "      border-top-color: var(--fill-color);\n",
              "    }\n",
              "    30% {\n",
              "      border-color: transparent;\n",
              "      border-left-color: var(--fill-color);\n",
              "      border-top-color: var(--fill-color);\n",
              "      border-right-color: var(--fill-color);\n",
              "    }\n",
              "    40% {\n",
              "      border-color: transparent;\n",
              "      border-right-color: var(--fill-color);\n",
              "      border-top-color: var(--fill-color);\n",
              "    }\n",
              "    60% {\n",
              "      border-color: transparent;\n",
              "      border-right-color: var(--fill-color);\n",
              "    }\n",
              "    80% {\n",
              "      border-color: transparent;\n",
              "      border-right-color: var(--fill-color);\n",
              "      border-bottom-color: var(--fill-color);\n",
              "    }\n",
              "    90% {\n",
              "      border-color: transparent;\n",
              "      border-bottom-color: var(--fill-color);\n",
              "    }\n",
              "  }\n",
              "</style>\n",
              "\n",
              "  <script>\n",
              "    async function quickchart(key) {\n",
              "      const quickchartButtonEl =\n",
              "        document.querySelector('#' + key + ' button');\n",
              "      quickchartButtonEl.disabled = true;  // To prevent multiple clicks.\n",
              "      quickchartButtonEl.classList.add('colab-df-spinner');\n",
              "      try {\n",
              "        const charts = await google.colab.kernel.invokeFunction(\n",
              "            'suggestCharts', [key], {});\n",
              "      } catch (error) {\n",
              "        console.error('Error during call to suggestCharts:', error);\n",
              "      }\n",
              "      quickchartButtonEl.classList.remove('colab-df-spinner');\n",
              "      quickchartButtonEl.classList.add('colab-df-quickchart-complete');\n",
              "    }\n",
              "    (() => {\n",
              "      let quickchartButtonEl =\n",
              "        document.querySelector('#df-4b99bdd7-02a9-42ea-bd3c-79b737a4352b button');\n",
              "      quickchartButtonEl.style.display =\n",
              "        google.colab.kernel.accessAllowed ? 'block' : 'none';\n",
              "    })();\n",
              "  </script>\n",
              "</div>\n",
              "\n",
              "    </div>\n",
              "  </div>\n"
            ],
            "application/vnd.google.colaboratory.intrinsic+json": {
              "type": "dataframe",
              "variable_name": "data_imputed",
              "summary": "{\n  \"name\": \"data_imputed\",\n  \"rows\": 26020,\n  \"fields\": [\n    {\n      \"column\": \"Fiscal Year Released\",\n      \"properties\": {\n        \"dtype\": \"number\",\n        \"std\": 1,\n        \"min\": 0,\n        \"max\": 5,\n        \"num_unique_values\": 6,\n        \"samples\": [\n          0,\n          1,\n          5\n        ],\n        \"semantic_type\": \"\",\n        \"description\": \"\"\n      }\n    },\n    {\n      \"column\": \"Recidivism Reporting Year\",\n      \"properties\": {\n        \"dtype\": \"number\",\n        \"std\": 1,\n        \"min\": 0,\n        \"max\": 5,\n        \"num_unique_values\": 6,\n        \"samples\": [\n          0,\n          1,\n          5\n        ],\n        \"semantic_type\": \"\",\n        \"description\": \"\"\n      }\n    },\n    {\n      \"column\": \"Race - Ethnicity\",\n      \"properties\": {\n        \"dtype\": \"number\",\n        \"std\": 2,\n        \"min\": 0,\n        \"max\": 10,\n        \"num_unique_values\": 11,\n        \"samples\": [\n          3,\n          10,\n          4\n        ],\n        \"semantic_type\": \"\",\n        \"description\": \"\"\n      }\n    },\n    {\n      \"column\": \"Age At Release \",\n      \"properties\": {\n        \"dtype\": \"number\",\n        \"std\": 1,\n        \"min\": 0,\n        \"max\": 4,\n        \"num_unique_values\": 5,\n        \"samples\": [\n          3,\n          1,\n          0\n        ],\n        \"semantic_type\": \"\",\n        \"description\": \"\"\n      }\n    },\n    {\n      \"column\": \"Convicting Offense Classification\",\n      \"properties\": {\n        \"dtype\": \"number\",\n        \"std\": 1,\n        \"min\": 0,\n        \"max\": 14,\n        \"num_unique_values\": 15,\n        \"samples\": [\n          6,\n          7,\n          4\n        ],\n        \"semantic_type\": \"\",\n        \"description\": \"\"\n      }\n    },\n    {\n      \"column\": \"Convicting Offense Type\",\n      \"properties\": {\n        \"dtype\": \"number\",\n        \"std\": 1,\n        \"min\": 0,\n        \"max\": 4,\n        \"num_unique_values\": 5,\n        \"samples\": [\n          3,\n          1,\n          2\n        ],\n        \"semantic_type\": \"\",\n        \"description\": \"\"\n      }\n    },\n    {\n      \"column\": \"Convicting Offense Subtype\",\n      \"properties\": {\n        \"dtype\": \"number\",\n        \"std\": 8,\n        \"min\": 0,\n        \"max\": 25,\n        \"num_unique_values\": 26,\n        \"samples\": [\n          17,\n          22,\n          3\n        ],\n        \"semantic_type\": \"\",\n        \"description\": \"\"\n      }\n    },\n    {\n      \"column\": \"Main Supervising District\",\n      \"properties\": {\n        \"dtype\": \"number\",\n        \"std\": 1,\n        \"min\": 0,\n        \"max\": 9,\n        \"num_unique_values\": 10,\n        \"samples\": [\n          9,\n          6,\n          0\n        ],\n        \"semantic_type\": \"\",\n        \"description\": \"\"\n      }\n    },\n    {\n      \"column\": \"Release Type\",\n      \"properties\": {\n        \"dtype\": \"number\",\n        \"std\": 1,\n        \"min\": 0,\n        \"max\": 7,\n        \"num_unique_values\": 8,\n        \"samples\": [\n          0,\n          5,\n          2\n        ],\n        \"semantic_type\": \"\",\n        \"description\": \"\"\n      }\n    },\n    {\n      \"column\": \"Release type: Paroled to Detainder united\",\n      \"properties\": {\n        \"dtype\": \"number\",\n        \"std\": 0,\n        \"min\": 0,\n        \"max\": 3,\n        \"num_unique_values\": 4,\n        \"samples\": [\n          0,\n          2,\n          1\n        ],\n        \"semantic_type\": \"\",\n        \"description\": \"\"\n      }\n    },\n    {\n      \"column\": \"Part of Target Population\",\n      \"properties\": {\n        \"dtype\": \"number\",\n        \"std\": 0,\n        \"min\": 0,\n        \"max\": 1,\n        \"num_unique_values\": 2,\n        \"samples\": [\n          0,\n          1\n        ],\n        \"semantic_type\": \"\",\n        \"description\": \"\"\n      }\n    },\n    {\n      \"column\": \"Recidivism - Return to Prison numeric\",\n      \"properties\": {\n        \"dtype\": \"number\",\n        \"std\": 0,\n        \"min\": 0,\n        \"max\": 1,\n        \"num_unique_values\": 2,\n        \"samples\": [\n          0,\n          1\n        ],\n        \"semantic_type\": \"\",\n        \"description\": \"\"\n      }\n    }\n  ]\n}"
            }
          },
          "metadata": {},
          "execution_count": 7
        }
      ]
    },
    {
      "cell_type": "markdown",
      "source": [
        "##Data Prep"
      ],
      "metadata": {
        "id": "3p8jUTO0uS6L"
      }
    },
    {
      "source": [
        "# Define features and target\n",
        "X = data_imputed.drop('Recidivism - Return to Prison numeric', axis=1)\n",
        "y = data_imputed['Recidivism - Return to Prison numeric']\n",
        "\n",
        "# Split the data into training and testing sets\n",
        "X_train, X_test, y_train, y_test = train_test_split(X, y, test_size=0.3, random_state=42)\n"
      ],
      "cell_type": "code",
      "metadata": {
        "id": "U9zcrEwfZ2V9"
      },
      "execution_count": null,
      "outputs": []
    },
    {
      "cell_type": "markdown",
      "source": [
        "##Modeling"
      ],
      "metadata": {
        "id": "ngiNxpamuWxH"
      }
    },
    {
      "cell_type": "markdown",
      "source": [
        "### Model exploration and selection"
      ],
      "metadata": {
        "id": "-m7HP2tova6q"
      }
    },
    {
      "cell_type": "code",
      "source": [
        "# Initialize the models\n",
        "models = {\n",
        "    'Decision Tree': DecisionTreeClassifier(),\n",
        "    'Random Forest': RandomForestClassifier(),\n",
        "    'Gradient Boosting': GradientBoostingClassifier(),\n",
        "    'Logistic Regression': LogisticRegression(max_iter=1000),\n",
        "    'Support Vector Machine': SVC()\n",
        "}\n",
        "\n",
        "# Train the models and evaluate them\n",
        "model_scores = {}\n",
        "for name, model in models.items():\n",
        "    model.fit(X_train, y_train)\n",
        "    model_scores[name] = model.score(X_test, y_test)\n",
        "\n"
      ],
      "metadata": {
        "id": "ZZ5asXDRaI_D"
      },
      "execution_count": null,
      "outputs": []
    },
    {
      "cell_type": "code",
      "source": [
        "model_scores"
      ],
      "metadata": {
        "colab": {
          "base_uri": "https://localhost:8080/"
        },
        "id": "L9KyHDk_aVS4",
        "outputId": "1b55fa54-42ee-4442-c6ba-1a40881f5705"
      },
      "execution_count": null,
      "outputs": [
        {
          "output_type": "execute_result",
          "data": {
            "text/plain": [
              "{'Decision Tree': 0.6245196003074558,\n",
              " 'Random Forest': 0.6297719702792723,\n",
              " 'Gradient Boosting': 0.6789648987957981,\n",
              " 'Logistic Regression': 0.668460158852165,\n",
              " 'Support Vector Machine': 0.6693569049449142}"
            ]
          },
          "metadata": {},
          "execution_count": 10
        }
      ]
    },
    {
      "cell_type": "code",
      "source": [
        "# Initialize a dictionary to hold confusion matrices for each model\n",
        "confusion_matrices = {}\n",
        "\n",
        "# Calculate confusion matrices for each model\n",
        "for name, model in models.items():\n",
        "    y_pred = model.predict(X_test)\n",
        "    confusion_matrices[name] = confusion_matrix(y_test, y_pred)\n",
        "\n",
        "confusion_matrices"
      ],
      "metadata": {
        "colab": {
          "base_uri": "https://localhost:8080/"
        },
        "id": "8YFaCILdcYGD",
        "outputId": "59e6187f-88b7-45a9-d7c0-3dace2035a4d"
      },
      "execution_count": null,
      "outputs": [
        {
          "output_type": "execute_result",
          "data": {
            "text/plain": [
              "{'Decision Tree': array([[4118, 1107],\n",
              "        [1824,  757]]),\n",
              " 'Random Forest': array([[4112, 1113],\n",
              "        [1777,  804]]),\n",
              " 'Gradient Boosting': array([[5023,  202],\n",
              "        [2304,  277]]),\n",
              " 'Logistic Regression': array([[5149,   76],\n",
              "        [2512,   69]]),\n",
              " 'Support Vector Machine': array([[5225,    0],\n",
              "        [2581,    0]])}"
            ]
          },
          "metadata": {},
          "execution_count": 11
        }
      ]
    },
    {
      "cell_type": "code",
      "source": [
        "# Initialize a dictionary to hold classification reports for each model\n",
        "classification_reports = {}\n",
        "\n",
        "# Calculate classification reports for each model\n",
        "for name, model in models.items():\n",
        "    y_pred = model.predict(X_test)\n",
        "    classification_reports[name] = classification_report(y_test, y_pred, output_dict=True)\n",
        "\n",
        "classification_reports"
      ],
      "metadata": {
        "colab": {
          "base_uri": "https://localhost:8080/"
        },
        "id": "Rl1cNzjecmeW",
        "outputId": "f3f751ff-4abf-43e8-9677-62339bfa2622"
      },
      "execution_count": null,
      "outputs": [
        {
          "output_type": "stream",
          "name": "stderr",
          "text": [
            "/usr/local/lib/python3.10/dist-packages/sklearn/metrics/_classification.py:1471: UndefinedMetricWarning: Precision and F-score are ill-defined and being set to 0.0 in labels with no predicted samples. Use `zero_division` parameter to control this behavior.\n",
            "  _warn_prf(average, modifier, msg_start, len(result))\n",
            "/usr/local/lib/python3.10/dist-packages/sklearn/metrics/_classification.py:1471: UndefinedMetricWarning: Precision and F-score are ill-defined and being set to 0.0 in labels with no predicted samples. Use `zero_division` parameter to control this behavior.\n",
            "  _warn_prf(average, modifier, msg_start, len(result))\n",
            "/usr/local/lib/python3.10/dist-packages/sklearn/metrics/_classification.py:1471: UndefinedMetricWarning: Precision and F-score are ill-defined and being set to 0.0 in labels with no predicted samples. Use `zero_division` parameter to control this behavior.\n",
            "  _warn_prf(average, modifier, msg_start, len(result))\n"
          ]
        },
        {
          "output_type": "execute_result",
          "data": {
            "text/plain": [
              "{'Decision Tree': {'0': {'precision': 0.6930326489397509,\n",
              "   'recall': 0.788133971291866,\n",
              "   'f1-score': 0.7375302229784186,\n",
              "   'support': 5225.0},\n",
              "  '1': {'precision': 0.4061158798283262,\n",
              "   'recall': 0.2932971716388997,\n",
              "   'f1-score': 0.340607424071991,\n",
              "   'support': 2581.0},\n",
              "  'accuracy': 0.6245196003074558,\n",
              "  'macro avg': {'precision': 0.5495742643840386,\n",
              "   'recall': 0.5407155714653828,\n",
              "   'f1-score': 0.5390688235252048,\n",
              "   'support': 7806.0},\n",
              "  'weighted avg': {'precision': 0.5981656003775441,\n",
              "   'recall': 0.6245196003074558,\n",
              "   'f1-score': 0.6062904402500701,\n",
              "   'support': 7806.0}},\n",
              " 'Random Forest': {'0': {'precision': 0.6982509763966718,\n",
              "   'recall': 0.7869856459330143,\n",
              "   'f1-score': 0.7399676084218103,\n",
              "   'support': 5225.0},\n",
              "  '1': {'precision': 0.4194053208137715,\n",
              "   'recall': 0.3115071677644324,\n",
              "   'f1-score': 0.3574922187638951,\n",
              "   'support': 2581.0},\n",
              "  'accuracy': 0.6297719702792723,\n",
              "  'macro avg': {'precision': 0.5588281486052217,\n",
              "   'recall': 0.5492464068487234,\n",
              "   'f1-score': 0.5487299135928527,\n",
              "   'support': 7806.0},\n",
              "  'weighted avg': {'precision': 0.6060525857920772,\n",
              "   'recall': 0.6297719702792723,\n",
              "   'f1-score': 0.6135047618029172,\n",
              "   'support': 7806.0}},\n",
              " 'Gradient Boosting': {'0': {'precision': 0.6855466084345572,\n",
              "   'recall': 0.9613397129186603,\n",
              "   'f1-score': 0.8003505417463352,\n",
              "   'support': 5225.0},\n",
              "  '1': {'precision': 0.5782881002087683,\n",
              "   'recall': 0.10732274312282061,\n",
              "   'f1-score': 0.18104575163398692,\n",
              "   'support': 2581.0},\n",
              "  'accuracy': 0.6789648987957981,\n",
              "  'macro avg': {'precision': 0.6319173543216627,\n",
              "   'recall': 0.5343312280207404,\n",
              "   'f1-score': 0.4906981466901611,\n",
              "   'support': 7806.0},\n",
              "  'weighted avg': {'precision': 0.650082323303791,\n",
              "   'recall': 0.6789648987957981,\n",
              "   'f1-score': 0.5955816891611481,\n",
              "   'support': 7806.0}},\n",
              " 'Logistic Regression': {'0': {'precision': 0.6721054692598878,\n",
              "   'recall': 0.9854545454545455,\n",
              "   'f1-score': 0.7991618811112836,\n",
              "   'support': 5225.0},\n",
              "  '1': {'precision': 0.47586206896551725,\n",
              "   'recall': 0.02673382409918636,\n",
              "   'f1-score': 0.05062362435803374,\n",
              "   'support': 2581.0},\n",
              "  'accuracy': 0.668460158852165,\n",
              "  'macro avg': {'precision': 0.5739837691127025,\n",
              "   'recall': 0.506094184776866,\n",
              "   'f1-score': 0.42489275273465865,\n",
              "   'support': 7806.0},\n",
              "  'weighted avg': {'precision': 0.607218944002423,\n",
              "   'recall': 0.668460158852165,\n",
              "   'f1-score': 0.5516628751312507,\n",
              "   'support': 7806.0}},\n",
              " 'Support Vector Machine': {'0': {'precision': 0.6693569049449142,\n",
              "   'recall': 1.0,\n",
              "   'f1-score': 0.801933850049881,\n",
              "   'support': 5225.0},\n",
              "  '1': {'precision': 0.0, 'recall': 0.0, 'f1-score': 0.0, 'support': 2581.0},\n",
              "  'accuracy': 0.6693569049449142,\n",
              "  'macro avg': {'precision': 0.3346784524724571,\n",
              "   'recall': 0.5,\n",
              "   'f1-score': 0.4009669250249405,\n",
              "   'support': 7806.0},\n",
              "  'weighted avg': {'precision': 0.4480386661974348,\n",
              "   'recall': 0.6693569049449142,\n",
              "   'f1-score': 0.5367799598399472,\n",
              "   'support': 7806.0}}}"
            ]
          },
          "metadata": {},
          "execution_count": 12
        }
      ]
    },
    {
      "cell_type": "markdown",
      "source": [
        "**Decision Tree**\n",
        "Precision: 69.32% (Class 0), 40.67% (Class 1)\n",
        "Recall: 78.83% (Class 0), 29.37% (Class 1)\n",
        "F1-score: 73.77% (Class 0), 34.11% (Class 1)\n",
        "Accuracy: 62.48%\n",
        "**Random Forest**\n",
        "Precision: 69.65% (Class 0), 41.35% (Class 1)\n",
        "Recall: 78.39% (Class 0), 30.84% (Class 1)\n",
        "F1-score: 73.76% (Class 0), 35.33% (Class 1)\n",
        "Accuracy: 62.67%\n",
        "**Gradient Boosting**\n",
        "Precision: 68.55% (Class 0), 57.83% (Class 1)\n",
        "Recall: 96.13% (Class 0), 10.73% (Class 1)\n",
        "F1-score: 80.04% (Class 0), 18.10% (Class 1)\n",
        "Accuracy: 67.90%\n",
        "**Logistic Regression**\n",
        "Precision: 67.21% (Class 0), 47.59% (Class 1)\n",
        "Recall: 98.55% (Class 0), 2.67% (Class 1)\n",
        "F1-score: 79.92% (Class 0), 5.06% (Class 1)\n",
        "Accuracy: 66.85%\n",
        "**Support Vector Machine**\n",
        "Precision: 66.94% (Class 0), 0.00% (Class 1)\n",
        "Recall: 100.00% (Class 0), 0.00% (Class 1)\n",
        "F1-score: 80.19% (Class 0), 0.00% (Class 1)\n",
        "Accuracy: 66.94%"
      ],
      "metadata": {
        "id": "YWH5JELkdDyH"
      }
    },
    {
      "cell_type": "markdown",
      "source": [
        "We are keeping Gradient Boosting and Random Forest"
      ],
      "metadata": {
        "id": "HEhme-mMd2tb"
      }
    },
    {
      "cell_type": "markdown",
      "source": [
        "###Gradient Boosting"
      ],
      "metadata": {
        "id": "ktEknmCvvUbo"
      }
    },
    {
      "cell_type": "code",
      "source": [
        "##GRADIENT BOOSTING\n",
        "#Hyperparameter tuning\n",
        "# Define parameter grid for Gradient Boosting\n",
        "param_grid_gb = {\n",
        "    'n_estimators': [50, 100, 150],\n",
        "    'learning_rate': [0.01, 0.1, 0.2],\n",
        "    'max_depth': [3, 5, 7]\n",
        "}\n",
        "\n",
        "# Initialize Gradient Boosting classifier\n",
        "gb = GradientBoostingClassifier()\n",
        "\n",
        "# Set up GridSearchCV\n",
        "grid_search_gb = GridSearchCV(estimator=gb, param_grid=param_grid_gb, cv=3, scoring='accuracy', n_jobs=-1)\n",
        "\n",
        "# Fit the model\n",
        "grid_search_gb.fit(X_train, y_train)\n",
        "\n",
        "# Best parameters and score\n",
        "best_params_gb = grid_search_gb.best_params_\n",
        "best_score_gb = grid_search_gb.best_score_\n",
        "\n",
        "best_params_gb, best_score_gb"
      ],
      "metadata": {
        "colab": {
          "base_uri": "https://localhost:8080/"
        },
        "id": "mKWEoig4dGGq",
        "outputId": "a670f329-b084-4084-cb75-ad1859980d7b"
      },
      "execution_count": null,
      "outputs": [
        {
          "output_type": "execute_result",
          "data": {
            "text/plain": [
              "({'learning_rate': 0.1, 'max_depth': 3, 'n_estimators': 150},\n",
              " 0.6740416815596036)"
            ]
          },
          "metadata": {},
          "execution_count": 13
        }
      ]
    },
    {
      "cell_type": "code",
      "source": [
        "# Make predictions on the test set\n",
        "y_pred_gb = grid_search_gb.best_estimator_.predict(X_test)\n",
        "\n",
        "# Calculate metrics\n",
        "accuracy = accuracy_score(y_test, y_pred_gb)\n",
        "precision = precision_score(y_test, y_pred_gb)\n",
        "recall = recall_score(y_test, y_pred_gb)\n",
        "f1 = f1_score(y_test, y_pred_gb)\n",
        "conf_matrix = confusion_matrix(y_test, y_pred_gb)\n",
        "\n",
        "# Display the results\n",
        "print(f\"Accuracy: {accuracy:.4f}\")\n",
        "print(f\"Precision: {precision:.4f}\")\n",
        "print(f\"Recall: {recall:.4f}\")\n",
        "print(f\"F1 Score: {f1:.4f}\")\n",
        "print(f\"Confusion Matrix:\\n{conf_matrix}\")"
      ],
      "metadata": {
        "colab": {
          "base_uri": "https://localhost:8080/"
        },
        "id": "0MdCGiEfgTTZ",
        "outputId": "3cfba3f5-ac4a-4206-e106-e354f6570f20"
      },
      "execution_count": null,
      "outputs": [
        {
          "output_type": "stream",
          "name": "stdout",
          "text": [
            "Accuracy: 0.6796\n",
            "Precision: 0.5697\n",
            "Recall: 0.1267\n",
            "F1 Score: 0.2073\n",
            "Confusion Matrix:\n",
            "[[4978  247]\n",
            " [2254  327]]\n"
          ]
        }
      ]
    },
    {
      "cell_type": "markdown",
      "source": [
        "Accuracy is relatively decent at approximately 68%, but this metric alone can be misleading, especially with class imbalance.\n",
        "Precision for the positive class (class 1) is low, indicating that a significant proportion of the predictions made for the positive class are incorrect.\n",
        "Recall for the positive class is very low, suggesting that the model is missing a large number of actual positive cases.\n",
        "The F1 Score, which is the harmonic mean of precision and recall, is also low, reflecting poor performance in predicting the positive class."
      ],
      "metadata": {
        "id": "5c89ocs0_-db"
      }
    },
    {
      "cell_type": "code",
      "source": [
        "#Class Weight Adjustment in Gradient Boosting\n",
        "# Train with class weight\n",
        "gb = GradientBoostingClassifier(n_estimators=150, learning_rate=0.1, max_depth=3, random_state=42)\n",
        "gb.fit(X_train, y_train, sample_weight=[2 if i == 1 else 1 for i in y_train])\n",
        "\n",
        "# Predictions\n",
        "y_pred = gb.predict(X_test)\n",
        "\n",
        "# Evaluation\n",
        "print(classification_report(y_test, y_pred))"
      ],
      "metadata": {
        "colab": {
          "base_uri": "https://localhost:8080/"
        },
        "id": "DGROIhZ-BTGh",
        "outputId": "7aad1733-ca24-4d85-cc0b-4ea9cd327622"
      },
      "execution_count": null,
      "outputs": [
        {
          "output_type": "stream",
          "name": "stdout",
          "text": [
            "              precision    recall  f1-score   support\n",
            "\n",
            "           0       0.76      0.60      0.67      5225\n",
            "           1       0.43      0.62      0.51      2581\n",
            "\n",
            "    accuracy                           0.61      7806\n",
            "   macro avg       0.60      0.61      0.59      7806\n",
            "weighted avg       0.65      0.61      0.62      7806\n",
            "\n"
          ]
        }
      ]
    },
    {
      "cell_type": "markdown",
      "source": [
        "Shows a balanced performance with slightly better recall for Class 1 (0.56) compared to the Gradient Boosting model.\n",
        "Precision for Class 1 is slightly higher at 0.44, and the overall F1-score for both classes is relatively balanced."
      ],
      "metadata": {
        "id": "xIXSod0hISex"
      }
    },
    {
      "cell_type": "markdown",
      "source": [
        "###Random Forest"
      ],
      "metadata": {
        "id": "KnnPZ-oTvKDv"
      }
    },
    {
      "cell_type": "code",
      "source": [
        "##RANDOM FOREST\n",
        "# Random Forest parameter grid\n",
        "rf_param_grid = {\n",
        "    'n_estimators': [100, 200, 300],\n",
        "    'max_features': ['sqrt', 'log2'],\n",
        "    'max_depth': [10, 20, None],\n",
        "    'min_samples_split': [2, 5, 10],\n",
        "    'min_samples_leaf': [1, 2, 4]\n",
        "}\n",
        "\n",
        "# GridSearchCV for Random Forest\n",
        "rf_grid_search = GridSearchCV(RandomForestClassifier(), rf_param_grid, cv=5, n_jobs=-1, scoring='accuracy')\n",
        "rf_grid_search.fit(X_train, y_train)\n",
        "\n",
        "# Best parameters and best score\n",
        "rf_best_params = rf_grid_search.best_params_\n",
        "rf_best_score = rf_grid_search.best_score_\n",
        "\n",
        "rf_best_params, rf_best_score"
      ],
      "metadata": {
        "colab": {
          "base_uri": "https://localhost:8080/"
        },
        "id": "qyZpe3-Efn0b",
        "outputId": "bf27f389-6698-4591-ccde-25d56ddee259"
      },
      "execution_count": null,
      "outputs": [
        {
          "output_type": "execute_result",
          "data": {
            "text/plain": [
              "({'max_depth': 10,\n",
              "  'max_features': 'sqrt',\n",
              "  'min_samples_leaf': 4,\n",
              "  'min_samples_split': 5,\n",
              "  'n_estimators': 300},\n",
              " 0.6736574381627226)"
            ]
          },
          "metadata": {},
          "execution_count": 15
        }
      ]
    },
    {
      "cell_type": "code",
      "source": [
        "\n",
        "# Initialize the Random Forest with the best parameters\n",
        "best_rf = RandomForestClassifier(\n",
        "    max_depth=rf_best_params['max_depth'],\n",
        "    max_features=rf_best_params['max_features'],\n",
        "    min_samples_leaf=rf_best_params['min_samples_leaf'],\n",
        "    min_samples_split=rf_best_params['min_samples_split'],\n",
        "    n_estimators=rf_best_params['n_estimators'],\n",
        "    random_state=42\n",
        ")\n",
        "\n",
        "# Train the model\n",
        "best_rf.fit(X_train, y_train)\n",
        "\n",
        "# Make predictions\n",
        "y_pred_rf = best_rf.predict(X_test)\n",
        "\n",
        "# Evaluate the model\n",
        "print(\"Classification Report:\")\n",
        "print(classification_report(y_test, y_pred_rf))\n",
        "\n",
        "print(\"Confusion Matrix:\")\n",
        "print(confusion_matrix(y_test, y_pred_rf))"
      ],
      "metadata": {
        "colab": {
          "base_uri": "https://localhost:8080/"
        },
        "id": "5YRpQobAHKhB",
        "outputId": "c690ba91-1a7a-4d9c-a802-a3386a54b1c1"
      },
      "execution_count": null,
      "outputs": [
        {
          "output_type": "stream",
          "name": "stdout",
          "text": [
            "Classification Report:\n",
            "              precision    recall  f1-score   support\n",
            "\n",
            "           0       0.68      0.96      0.80      5225\n",
            "           1       0.54      0.09      0.16      2581\n",
            "\n",
            "    accuracy                           0.67      7806\n",
            "   macro avg       0.61      0.53      0.48      7806\n",
            "weighted avg       0.64      0.67      0.59      7806\n",
            "\n",
            "Confusion Matrix:\n",
            "[[5021  204]\n",
            " [2339  242]]\n"
          ]
        }
      ]
    },
    {
      "cell_type": "markdown",
      "source": [
        "High Precision for Class 0: The model performs well in predicting non-recidivism cases (Class 0), with high precision and recall, indicating that most of the predictions for this class are correct.\n",
        "Low Recall for Class 1: The model struggles with recall for the recidivism class (Class 1), meaning it fails to identify a large number of actual recidivism cases.\n",
        "Class Imbalance: The low recall and F1-score for Class 1 suggest that the model might be biased towards the majority class (Class 0). This is a common issue in imbalanced datasets where the model might not learn enough about the minority class."
      ],
      "metadata": {
        "id": "3E2BO9aGHdIE"
      }
    },
    {
      "cell_type": "code",
      "source": [
        "# Apply SMOTE to the training data\n",
        "smote = SMOTE(random_state=42)\n",
        "X_train_res, y_train_res = smote.fit_resample(X_train, y_train)\n",
        "\n",
        "# Initialize the Random Forest with the best parameters found earlier\n",
        "best_rf = RandomForestClassifier(\n",
        "    max_depth=10,\n",
        "    max_features='sqrt',\n",
        "    min_samples_leaf=4,\n",
        "    min_samples_split=5,\n",
        "    n_estimators=300,\n",
        "    random_state=42\n",
        ")\n",
        "\n",
        "# Train the model on the resampled data\n",
        "best_rf.fit(X_train_res, y_train_res)\n",
        "\n",
        "# Make predictions on the test set\n",
        "y_pred_rf = best_rf.predict(X_test)\n",
        "\n",
        "# Evaluate the model\n",
        "print(\"Classification Report:\")\n",
        "print(classification_report(y_test, y_pred_rf))\n",
        "\n",
        "print(\"Confusion Matrix:\")\n",
        "print(confusion_matrix(y_test, y_pred_rf))"
      ],
      "metadata": {
        "colab": {
          "base_uri": "https://localhost:8080/"
        },
        "id": "5jo9BwW1Hy_d",
        "outputId": "5ad47714-6d90-4361-b1a9-37aca5b61a7e"
      },
      "execution_count": null,
      "outputs": [
        {
          "output_type": "stream",
          "name": "stdout",
          "text": [
            "Classification Report:\n",
            "              precision    recall  f1-score   support\n",
            "\n",
            "           0       0.75      0.65      0.69      5225\n",
            "           1       0.44      0.56      0.49      2581\n",
            "\n",
            "    accuracy                           0.62      7806\n",
            "   macro avg       0.59      0.60      0.59      7806\n",
            "weighted avg       0.64      0.62      0.63      7806\n",
            "\n",
            "Confusion Matrix:\n",
            "[[3386 1839]\n",
            " [1148 1433]]\n"
          ]
        }
      ]
    },
    {
      "cell_type": "markdown",
      "source": [
        "Improved recall for Class 1 (0.62), indicating better identification of the minority class.\n",
        "However, precision for Class 1 is relatively low (0.43), which means there are still a significant number of false positives."
      ],
      "metadata": {
        "id": "EIvmotkeIPWB"
      }
    },
    {
      "cell_type": "markdown",
      "source": [
        "###Combining Methods"
      ],
      "metadata": {
        "id": "oZ44V7iHvPP5"
      }
    },
    {
      "cell_type": "code",
      "source": [
        "## COMBINING METHODS\n",
        "# Initialize the Gradient Boosting and Random Forest models with the best parameters\n",
        "gb = GradientBoostingClassifier(\n",
        "    n_estimators=150, learning_rate=0.1, max_depth=3, random_state=42,\n",
        "    subsample=1.0, min_samples_split=2, min_samples_leaf=1\n",
        ")\n",
        "rf = RandomForestClassifier(\n",
        "    max_depth=10, max_features='sqrt', min_samples_leaf=4,\n",
        "    min_samples_split=5, n_estimators=300, random_state=42\n",
        ")\n",
        "\n",
        "# Create a Voting Classifier with the Gradient Boosting and Random Forest models\n",
        "voting_clf = VotingClassifier(\n",
        "    estimators=[('gb', gb), ('rf', rf)],\n",
        "    voting='soft'  # 'soft' uses predicted probabilities, 'hard' uses predicted class labels\n",
        ")\n",
        "\n",
        "# Fit the Voting Classifier on the training data\n",
        "voting_clf.fit(X_train, y_train)\n",
        "\n",
        "# Predict on the test data\n",
        "y_pred_voting = voting_clf.predict(X_test)\n",
        "\n",
        "# Evaluate the model\n",
        "print(\"Classification Report:\")\n",
        "print(classification_report(y_test, y_pred_voting))\n",
        "\n",
        "print(\"Confusion Matrix:\")\n",
        "print(confusion_matrix(y_test, y_pred_voting))"
      ],
      "metadata": {
        "colab": {
          "base_uri": "https://localhost:8080/"
        },
        "id": "YMK5hPbVIkU8",
        "outputId": "98b7a766-50b9-4ff5-e3c4-962009ee08e1"
      },
      "execution_count": null,
      "outputs": [
        {
          "output_type": "stream",
          "name": "stdout",
          "text": [
            "Classification Report:\n",
            "              precision    recall  f1-score   support\n",
            "\n",
            "           0       0.69      0.96      0.80      5225\n",
            "           1       0.57      0.11      0.18      2581\n",
            "\n",
            "    accuracy                           0.68      7806\n",
            "   macro avg       0.63      0.53      0.49      7806\n",
            "weighted avg       0.65      0.68      0.59      7806\n",
            "\n",
            "Confusion Matrix:\n",
            "[[5016  209]\n",
            " [2305  276]]\n"
          ]
        }
      ]
    },
    {
      "cell_type": "code",
      "source": [
        "# Predict probabilities instead of labels\n",
        "y_proba = voting_clf.predict_proba(X_test)\n",
        "\n",
        "# Set a lower threshold for predicting class 1 (recidivism)\n",
        "threshold = 0.3  # Adjust this value as needed\n",
        "y_pred_threshold = (y_proba[:, 1] >= threshold).astype(int)\n",
        "\n",
        "# Evaluate the new predictions\n",
        "print(\"Classification Report with Threshold Adjustment:\")\n",
        "print(classification_report(y_test, y_pred_threshold))\n",
        "\n",
        "print(\"Confusion Matrix:\")\n",
        "print(confusion_matrix(y_test, y_pred_threshold))"
      ],
      "metadata": {
        "colab": {
          "base_uri": "https://localhost:8080/"
        },
        "id": "2rVSPjvyJ5IU",
        "outputId": "ac2569de-c5bd-43c9-fead-7a73830d5569"
      },
      "execution_count": null,
      "outputs": [
        {
          "output_type": "stream",
          "name": "stdout",
          "text": [
            "Classification Report with Threshold Adjustment:\n",
            "              precision    recall  f1-score   support\n",
            "\n",
            "           0       0.78      0.47      0.59      5225\n",
            "           1       0.41      0.73      0.52      2581\n",
            "\n",
            "    accuracy                           0.56      7806\n",
            "   macro avg       0.60      0.60      0.56      7806\n",
            "weighted avg       0.66      0.56      0.57      7806\n",
            "\n",
            "Confusion Matrix:\n",
            "[[2465 2760]\n",
            " [ 684 1897]]\n"
          ]
        }
      ]
    },
    {
      "cell_type": "markdown",
      "source": [
        "Improved Recall for Class 1: The recall for the recidivism class (Class 1) has improved significantly to 0.73, meaning the model is now identifying a larger proportion of true positive cases.\n",
        "Decrease in Precision for Class 1: The precision for Class 1 has dropped to 0.41, indicating more false positives. This trade-off is common when aiming to increase recall, especially in imbalanced datasets.\n",
        "Impact on Class 0: The precision for Class 0 remains high at 0.78, but the recall has decreased to 0.47, reflecting a higher number of false negatives."
      ],
      "metadata": {
        "id": "GZRYkGyNKB6L"
      }
    },
    {
      "cell_type": "markdown",
      "source": [
        "###XGBoost"
      ],
      "metadata": {
        "id": "AL_yihX0uqf9"
      }
    },
    {
      "cell_type": "code",
      "source": [
        "##XGBOOST\n",
        "# Initialize the XGBoost classifier with a focus on class imbalance\n",
        "xgb = XGBClassifier(scale_pos_weight=(y_train == 0).sum() / (y_train == 1).sum(), random_state=42)\n",
        "\n",
        "# Train the model\n",
        "xgb.fit(X_train, y_train)\n",
        "\n",
        "# Predict on the test data\n",
        "y_pred_xgb = xgb.predict(X_test)\n",
        "\n",
        "# Evaluate the model\n",
        "print(\"Classification Report for XGBoost:\")\n",
        "print(classification_report(y_test, y_pred_xgb))\n",
        "\n",
        "print(\"Confusion Matrix for XGBoost:\")\n",
        "print(confusion_matrix(y_test, y_pred_xgb))"
      ],
      "metadata": {
        "colab": {
          "base_uri": "https://localhost:8080/"
        },
        "id": "gczfyHWaKSth",
        "outputId": "119c3f53-d217-46b7-d188-68e8e5e9a889"
      },
      "execution_count": null,
      "outputs": [
        {
          "output_type": "stream",
          "name": "stdout",
          "text": [
            "Classification Report for XGBoost:\n",
            "              precision    recall  f1-score   support\n",
            "\n",
            "           0       0.75      0.62      0.68      5225\n",
            "           1       0.43      0.59      0.50      2581\n",
            "\n",
            "    accuracy                           0.61      7806\n",
            "   macro avg       0.59      0.61      0.59      7806\n",
            "weighted avg       0.65      0.61      0.62      7806\n",
            "\n",
            "Confusion Matrix for XGBoost:\n",
            "[[3251 1974]\n",
            " [1063 1518]]\n"
          ]
        }
      ]
    },
    {
      "cell_type": "markdown",
      "source": [
        "Recall Improvement for Class 1: The recall for the recidivism class (Class 1) is 0.59, indicating that the model is identifying a substantial portion of true positive cases.\n",
        "Balanced Precision and Recall: The model shows a more balanced performance across both classes compared to previous models, with reasonable precision and recall for Class 1.\n",
        "Moderate Accuracy: Overall accuracy stands at 0.61, with a weighted average F1-score of 0.62, reflecting a balanced handling of both classes but with room for improvement, particularly in reducing false positives for Class 1."
      ],
      "metadata": {
        "id": "lu2N0BLFKgiP"
      }
    },
    {
      "cell_type": "code",
      "source": [
        "#Adjusting Class Weights in XGBoost\n",
        "# Adjust scale_pos_weight to handle class imbalance\n",
        "xgb = XGBClassifier(scale_pos_weight=(y_train == 0).sum() / (y_train == 1).sum(), random_state=42)\n",
        "\n",
        "# Train the model\n",
        "xgb.fit(X_train, y_train)\n",
        "\n",
        "# Predict probabilities\n",
        "y_proba_xgb = xgb.predict_proba(X_test)\n",
        "\n",
        "# Adjust threshold for class 1\n",
        "threshold = 0.3  # Lower threshold for higher recall\n",
        "y_pred_xgb_threshold = (y_proba_xgb[:, 1] >= threshold).astype(int)\n",
        "\n",
        "# Evaluate the model with adjusted threshold\n",
        "print(\"Classification Report with Threshold Adjustment for XGBoost:\")\n",
        "print(classification_report(y_test, y_pred_xgb_threshold))\n",
        "\n",
        "print(\"Confusion Matrix with Threshold Adjustment for XGBoost:\")\n",
        "print(confusion_matrix(y_test, y_pred_xgb_threshold))"
      ],
      "metadata": {
        "colab": {
          "base_uri": "https://localhost:8080/"
        },
        "id": "A3DI4arhKtuv",
        "outputId": "5b0130f2-474c-49a6-fb7e-f895932b8c78"
      },
      "execution_count": null,
      "outputs": [
        {
          "output_type": "stream",
          "name": "stdout",
          "text": [
            "Classification Report with Threshold Adjustment for XGBoost:\n",
            "              precision    recall  f1-score   support\n",
            "\n",
            "           0       0.82      0.23      0.35      5225\n",
            "           1       0.37      0.90      0.52      2581\n",
            "\n",
            "    accuracy                           0.45      7806\n",
            "   macro avg       0.59      0.56      0.44      7806\n",
            "weighted avg       0.67      0.45      0.41      7806\n",
            "\n",
            "Confusion Matrix with Threshold Adjustment for XGBoost:\n",
            "[[1180 4045]\n",
            " [ 254 2327]]\n"
          ]
        }
      ]
    },
    {
      "cell_type": "markdown",
      "source": [
        "Significant Increase in Recall for Class 1: The recall for the recidivism class (Class 1) has substantially increased to 0.90, indicating that the model is identifying a large proportion of true positive cases.\n",
        "Drop in Precision for Class 1: Precision for Class 1 has decreased to 0.37, reflecting an increase in false positives, which is a typical trade-off when focusing on recall.\n",
        "Impact on Class 0: The recall for Class 0 (non-recidivism) has dropped significantly to 0.23, resulting in many false negatives. This is reflected in the confusion matrix, where a large number of Class 0 cases are misclassified as Class 1."
      ],
      "metadata": {
        "id": "Q4gR9ytgK_Mn"
      }
    },
    {
      "cell_type": "markdown",
      "source": [
        "###Light GBM"
      ],
      "metadata": {
        "id": "4hgfnhV1uuWG"
      }
    },
    {
      "cell_type": "code",
      "source": [
        "##Light GBM\n",
        "# Sanitize feature names\n",
        "X_train.columns = [re.sub('[^A-Za-z0-9_]+', '', col) for col in X_train.columns]\n",
        "X_test.columns = [re.sub('[^A-Za-z0-9_]+', '', col) for col in X_test.columns]\n",
        "\n",
        "# Initialize the LightGBM classifier with class weight adjustment\n",
        "lgb_clf = lgb.LGBMClassifier(class_weight='balanced', random_state=42)\n",
        "\n",
        "# Train the model\n",
        "lgb_clf.fit(X_train, y_train)\n",
        "\n",
        "# Predict on the test data\n",
        "y_pred_lgb = lgb_clf.predict(X_test)\n",
        "\n",
        "# Evaluate the model\n",
        "print(\"Classification Report for LightGBM:\")\n",
        "print(classification_report(y_test, y_pred_lgb))\n",
        "\n",
        "print(\"Confusion Matrix for LightGBM:\")\n",
        "print(confusion_matrix(y_test, y_pred_lgb))"
      ],
      "metadata": {
        "colab": {
          "base_uri": "https://localhost:8080/"
        },
        "id": "Ilmwknn9LAWa",
        "outputId": "8eea30d7-7659-4f40-b46f-c8c84a701339"
      },
      "execution_count": null,
      "outputs": [
        {
          "output_type": "stream",
          "name": "stdout",
          "text": [
            "[LightGBM] [Info] Number of positive: 6100, number of negative: 12114\n",
            "[LightGBM] [Info] Auto-choosing row-wise multi-threading, the overhead of testing was 0.001705 seconds.\n",
            "You can set `force_row_wise=true` to remove the overhead.\n",
            "And if memory is not enough, you can set `force_col_wise=true`.\n",
            "[LightGBM] [Info] Total Bins 93\n",
            "[LightGBM] [Info] Number of data points in the train set: 18214, number of used features: 11\n",
            "[LightGBM] [Info] [binary:BoostFromScore]: pavg=0.500000 -> initscore=0.000000\n",
            "[LightGBM] [Info] Start training from score 0.000000\n",
            "Classification Report for LightGBM:\n",
            "              precision    recall  f1-score   support\n",
            "\n",
            "           0       0.77      0.60      0.67      5225\n",
            "           1       0.44      0.63      0.51      2581\n",
            "\n",
            "    accuracy                           0.61      7806\n",
            "   macro avg       0.60      0.61      0.59      7806\n",
            "weighted avg       0.66      0.61      0.62      7806\n",
            "\n",
            "Confusion Matrix for LightGBM:\n",
            "[[3141 2084]\n",
            " [ 964 1617]]\n"
          ]
        }
      ]
    },
    {
      "cell_type": "markdown",
      "source": [
        "Improved Recall for Class 1: The recall for the recidivism class (Class 1) has improved to 0.63, indicating that the model is successfully identifying a larger proportion of true positive cases.\n",
        "Balanced Precision and Recall: The precision and recall for both classes are relatively balanced, though the precision for Class 1 is still lower, suggesting there are a significant number of false positives.\n",
        "Overall Performance: The model demonstrates a reasonable balance between precision and recall, with a macro average F1-score of 0.59."
      ],
      "metadata": {
        "id": "On4vycQnLtv0"
      }
    },
    {
      "cell_type": "code",
      "source": [
        "#class weight adjustment\n",
        "# Adjust class weights\n",
        "class_weights = {0: 1, 1: 2}  # Example weights, adjust as needed\n",
        "lgb_clf = lgb.LGBMClassifier(class_weight=class_weights, random_state=42)\n",
        "\n",
        "# Train the model\n",
        "lgb_clf.fit(X_train, y_train)\n",
        "\n",
        "# Predict on the test data\n",
        "y_pred_lgb = lgb_clf.predict(X_test)\n",
        "\n",
        "# Evaluate the model\n",
        "print(\"Classification Report for LightGBM with Class Weight Adjustment:\")\n",
        "print(classification_report(y_test, y_pred_lgb))\n",
        "\n",
        "print(\"Confusion Matrix for LightGBM with Class Weight Adjustment:\")\n",
        "print(confusion_matrix(y_test, y_pred_lgb))"
      ],
      "metadata": {
        "colab": {
          "base_uri": "https://localhost:8080/"
        },
        "id": "JQ5X7hnjLunT",
        "outputId": "cb23deea-7e03-4525-d6b3-e8b6f4e15fac"
      },
      "execution_count": null,
      "outputs": [
        {
          "output_type": "stream",
          "name": "stdout",
          "text": [
            "[LightGBM] [Info] Number of positive: 6100, number of negative: 12114\n",
            "[LightGBM] [Info] Auto-choosing row-wise multi-threading, the overhead of testing was 0.001582 seconds.\n",
            "You can set `force_row_wise=true` to remove the overhead.\n",
            "And if memory is not enough, you can set `force_col_wise=true`.\n",
            "[LightGBM] [Info] Total Bins 93\n",
            "[LightGBM] [Info] Number of data points in the train set: 18214, number of used features: 11\n",
            "[LightGBM] [Info] [binary:BoostFromScore]: pavg=0.501769 -> initscore=0.007074\n",
            "[LightGBM] [Info] Start training from score 0.007074\n",
            "Classification Report for LightGBM with Class Weight Adjustment:\n",
            "              precision    recall  f1-score   support\n",
            "\n",
            "           0       0.77      0.60      0.67      5225\n",
            "           1       0.44      0.63      0.52      2581\n",
            "\n",
            "    accuracy                           0.61      7806\n",
            "   macro avg       0.60      0.62      0.60      7806\n",
            "weighted avg       0.66      0.61      0.62      7806\n",
            "\n",
            "Confusion Matrix for LightGBM with Class Weight Adjustment:\n",
            "[[3147 2078]\n",
            " [ 960 1621]]\n"
          ]
        }
      ]
    },
    {
      "cell_type": "markdown",
      "source": [
        "Improved Recall for Class 1: The recall for the recidivism class (Class 1) remains strong at 0.63, indicating that the model effectively identifies true positive cases.\n",
        "Balanced Metrics: The precision and recall for both classes are relatively balanced. However, the precision for Class 1 is still somewhat low at 0.44, suggesting that false positives are present.\n",
        "Overall Performance: The model's overall performance, with an accuracy of 0.61 and macro average metrics around 0.60, shows a reasonable balance between the two classes"
      ],
      "metadata": {
        "id": "Aw7mijkFMB-j"
      }
    },
    {
      "cell_type": "markdown",
      "source": [
        "###Staking Ensemble"
      ],
      "metadata": {
        "id": "12TT_RJzuzxc"
      }
    },
    {
      "cell_type": "code",
      "source": [
        "##Implementing Stacking\n",
        "# Define base models\n",
        "base_models = [\n",
        "    ('rf', RandomForestClassifier(n_estimators=100, random_state=42)),\n",
        "    ('gb', GradientBoostingClassifier(n_estimators=100, random_state=42)),\n",
        "    ('xgb', XGBClassifier(n_estimators=100, random_state=42)),\n",
        "    ('lgb', LGBMClassifier(n_estimators=100, random_state=42))\n",
        "]\n",
        "\n",
        "# Define meta-model\n",
        "meta_model = LogisticRegression()\n",
        "\n",
        "# Create stacking ensemble\n",
        "stacking_clf = StackingClassifier(estimators=base_models, final_estimator=meta_model, cv=5, n_jobs=-1)\n",
        "\n",
        "# Train the stacking ensemble\n",
        "stacking_clf.fit(X_train, y_train)\n",
        "\n",
        "# Predict on the test set\n",
        "y_pred_stacking = stacking_clf.predict(X_test)\n",
        "\n",
        "# Evaluate the stacking ensemble\n",
        "print(\"Classification Report for Stacking Ensemble:\")\n",
        "print(classification_report(y_test, y_pred_stacking))\n",
        "\n",
        "print(\"Confusion Matrix for Stacking Ensemble:\")\n",
        "print(confusion_matrix(y_test, y_pred_stacking))"
      ],
      "metadata": {
        "colab": {
          "base_uri": "https://localhost:8080/"
        },
        "id": "6slrycCrMQsT",
        "outputId": "e826df2e-0e94-4bb0-95e4-03d785cd4233"
      },
      "execution_count": null,
      "outputs": [
        {
          "output_type": "stream",
          "name": "stdout",
          "text": [
            "Classification Report for Stacking Ensemble:\n",
            "              precision    recall  f1-score   support\n",
            "\n",
            "           0       0.69      0.93      0.80      5225\n",
            "           1       0.55      0.17      0.26      2581\n",
            "\n",
            "    accuracy                           0.68      7806\n",
            "   macro avg       0.62      0.55      0.53      7806\n",
            "weighted avg       0.65      0.68      0.62      7806\n",
            "\n",
            "Confusion Matrix for Stacking Ensemble:\n",
            "[[4859  366]\n",
            " [2135  446]]\n"
          ]
        }
      ]
    },
    {
      "cell_type": "markdown",
      "source": [
        "High Recall for Class 0: The model performs very well in identifying non-recidivism cases (Class 0), with a recall of 0.93, meaning most non-recidivism cases are correctly classified.\n",
        "Low Recall for Class 1: The recall for the recidivism class (Class 1) is low at 0.17, indicating that the model is not identifying a sufficient number of true positive recidivism cases.\n",
        "Overall Performance: The ensemble model has an accuracy of 0.68 and shows a relatively high weighted average precision and recall for Class 0 but struggles with Class 1."
      ],
      "metadata": {
        "id": "3-IAtZ7tMxYL"
      }
    },
    {
      "cell_type": "code",
      "source": [
        "# Define base models with class weight adjustment\n",
        "base_models = [\n",
        "    ('rf', RandomForestClassifier(n_estimators=100, class_weight={0: 1, 1: 2}, random_state=42)),\n",
        "    ('gb', GradientBoostingClassifier(n_estimators=100, random_state=42)),\n",
        "    ('xgb', XGBClassifier(n_estimators=100, scale_pos_weight=(y_train == 0).sum() / (y_train == 1).sum(), random_state=42)),\n",
        "    ('lgb', LGBMClassifier(n_estimators=100, class_weight={0: 1, 1: 2}, random_state=42))\n",
        "]\n",
        "\n",
        "# Define meta-model\n",
        "meta_model = LogisticRegression()\n",
        "\n",
        "# Create stacking ensemble with adjusted class weights\n",
        "stacking_clf = StackingClassifier(estimators=base_models, final_estimator=meta_model, cv=5, n_jobs=-1)\n",
        "\n",
        "# Train the stacking ensemble\n",
        "stacking_clf.fit(X_train, y_train)\n",
        "\n",
        "# Predict on the test set\n",
        "y_pred_stacking = stacking_clf.predict(X_test)\n",
        "\n",
        "# Evaluate the stacking ensemble\n",
        "print(\"Classification Report for Stacking Ensemble with Class Weight Adjustment:\")\n",
        "print(classification_report(y_test, y_pred_stacking))\n",
        "\n",
        "print(\"Confusion Matrix for Stacking Ensemble with Class Weight Adjustment:\")\n",
        "print(confusion_matrix(y_test, y_pred_stacking))"
      ],
      "metadata": {
        "colab": {
          "base_uri": "https://localhost:8080/"
        },
        "id": "QboTdVj9NBCH",
        "outputId": "1afc0855-8dc5-4432-a2de-1d58567d1282"
      },
      "execution_count": null,
      "outputs": [
        {
          "output_type": "stream",
          "name": "stdout",
          "text": [
            "Classification Report for Stacking Ensemble with Class Weight Adjustment:\n",
            "              precision    recall  f1-score   support\n",
            "\n",
            "           0       0.69      0.93      0.80      5225\n",
            "           1       0.55      0.17      0.26      2581\n",
            "\n",
            "    accuracy                           0.68      7806\n",
            "   macro avg       0.62      0.55      0.53      7806\n",
            "weighted avg       0.65      0.68      0.62      7806\n",
            "\n",
            "Confusion Matrix for Stacking Ensemble with Class Weight Adjustment:\n",
            "[[4873  352]\n",
            " [2152  429]]\n"
          ]
        }
      ]
    },
    {
      "cell_type": "markdown",
      "source": [
        "High Recall for Class 0: The model continues to perform very well in identifying non-recidivism cases, with a recall of 0.93.\n",
        "Low Recall for Class 1: Despite the class weight adjustment, the recall for recidivism cases remains low at 0.17, indicating that the model still struggles to identify a sufficient number of true positive cases in Class 1.\n",
        "Precision for Class 1: The precision for Class 1 is slightly better than previous runs, but the overall improvement is limited, which suggests that further adjustments might be necessary."
      ],
      "metadata": {
        "id": "fLR9qNrWNSc6"
      }
    },
    {
      "cell_type": "markdown",
      "source": [
        "**Summary of Key Models and Metrics:**\n",
        "\n",
        "**Gradient Boosting with Class Weight Adjustment:**\n",
        "Recall for Class 1: 0.63\n",
        "Precision for Class 1: 0.44\n",
        "Overall Accuracy: 0.61\n",
        "\n",
        "**Random Forest with SMOTE:**\n",
        "Recall for Class 1: 0.56\n",
        "Precision for Class 1: 0.44\n",
        "Overall Accuracy: 0.62\n",
        "\n",
        "**XGBoost with Threshold Adjustment:**\n",
        "Recall for Class 1: 0.90 (with a lower threshold)\n",
        "Precision for Class 1: 0.37\n",
        "Overall Accuracy: 0.45\n",
        "\n",
        "**LightGBM with Class Weight Adjustment:**\n",
        "Recall for Class 1: 0.63\n",
        "Precision for Class 1: 0.44\n",
        "Overall Accuracy: 0.61\n",
        "\n",
        "**Stacking Ensemble with Class Weight Adjustment:**\n",
        "Recall for Class 1: 0.17\n",
        "Precision for Class 1: 0.55\n",
        "Overall Accuracy: 0.68\n",
        "\n",
        "XGBoost with Threshold Adjustment had the highest recall for Class 1 (0.90), which is critical for identifying as many recidivism cases as possible. However, this came with a trade-off in precision and overall accuracy.\n",
        "Gradient Boosting and LightGBM with Class Weight Adjustment provided a more balanced approach with decent recall and precision for Class 1, along with better overall accuracy.\n",
        "Stacking Ensemble showed the highest accuracy overall but struggled with recall for Class 1.\n",
        "\n",
        "The choice depends on the specific priorities of the project:\n",
        "\n",
        "Maximize Recall: Choose XGBoost with Threshold Adjustment.\n",
        "Balance Recall and Precision: Choose Gradient Boosting or LightGBM with Class Weight Adjustment."
      ],
      "metadata": {
        "id": "YNJnblnzNxO-"
      }
    },
    {
      "cell_type": "markdown",
      "source": [
        "###Neural Networks"
      ],
      "metadata": {
        "id": "2m-Cmlyqu-Bo"
      }
    },
    {
      "cell_type": "code",
      "source": [
        "##Neural Network (MLP)\n",
        "# Apply SMOTE to the training data\n",
        "smote = SMOTE(random_state=42)\n",
        "X_train_resampled, y_train_resampled = smote.fit_resample(X_train, y_train)\n",
        "\n",
        "# Define the MLPClassifier\n",
        "mlp_clf = MLPClassifier(hidden_layer_sizes=(100, 50), max_iter=500, random_state=42)\n",
        "\n",
        "# Train the neural network model\n",
        "mlp_clf.fit(X_train_resampled, y_train_resampled)\n",
        "\n",
        "# Predict on the test data\n",
        "y_pred_mlp = mlp_clf.predict(X_test)\n",
        "\n",
        "# Evaluate the neural network model\n",
        "print(\"Classification Report for MLP Classifier with SMOTE:\")\n",
        "print(classification_report(y_test, y_pred_mlp))\n",
        "\n",
        "print(\"Confusion Matrix for MLP Classifier with SMOTE:\")\n",
        "print(confusion_matrix(y_test, y_pred_mlp))"
      ],
      "metadata": {
        "colab": {
          "base_uri": "https://localhost:8080/"
        },
        "id": "glyi4O4ANSN0",
        "outputId": "d1696040-2b24-4a52-f528-fe602d3b2662"
      },
      "execution_count": null,
      "outputs": [
        {
          "output_type": "stream",
          "name": "stdout",
          "text": [
            "Classification Report for MLP Classifier with SMOTE:\n",
            "              precision    recall  f1-score   support\n",
            "\n",
            "           0       0.72      0.69      0.70      5225\n",
            "           1       0.41      0.45      0.43      2581\n",
            "\n",
            "    accuracy                           0.61      7806\n",
            "   macro avg       0.56      0.57      0.57      7806\n",
            "weighted avg       0.62      0.61      0.61      7806\n",
            "\n",
            "Confusion Matrix for MLP Classifier with SMOTE:\n",
            "[[3593 1632]\n",
            " [1431 1150]]\n"
          ]
        }
      ]
    },
    {
      "cell_type": "markdown",
      "source": [
        "Balanced Performance: The model shows a relatively balanced performance between Class 0 and Class 1, with both classes having moderate precision and recall.\n",
        "Improvement in Recall for Class 1: The recall for the recidivism class (Class 1) is 0.45, indicating that the model is capturing more true positives than previous runs without SMOTE.\n",
        "Precision and Recall Trade-off: The precision for Class 1 is 0.41, which indicates a number of false positives. This trade-off is common when using techniques like SMOTE to increase recall."
      ],
      "metadata": {
        "id": "O8cNOi5wQamZ"
      }
    },
    {
      "cell_type": "code",
      "source": [
        "# Define the parameter grid\n",
        "param_grid = {\n",
        "    'hidden_layer_sizes': [(100,), (100, 50), (50, 50, 50)],\n",
        "    'activation': ['relu', 'tanh'],\n",
        "    'solver': ['adam', 'sgd'],\n",
        "    'alpha': [0.0001, 0.001, 0.01],\n",
        "    'learning_rate_init': [0.001, 0.01, 0.1],\n",
        "    'max_iter': [200, 500]\n",
        "}\n",
        "\n",
        "# Initialize the MLPClassifier\n",
        "mlp_clf = MLPClassifier(random_state=42)\n",
        "\n",
        "# GridSearchCV for hyperparameter tuning\n",
        "grid_search = GridSearchCV(estimator=mlp_clf, param_grid=param_grid, cv=3, n_jobs=-1, scoring='accuracy')\n",
        "grid_search.fit(X_train_resampled, y_train_resampled)\n",
        "\n",
        "# Best parameters and best score\n",
        "best_params = grid_search.best_params_\n",
        "best_score = grid_search.best_score_\n",
        "\n",
        "print(\"Best Parameters:\", best_params)\n",
        "print(\"Best Score:\", best_score)\n",
        "\n",
        "# Train the best MLP model\n",
        "best_mlp_clf = grid_search.best_estimator_\n",
        "best_mlp_clf.fit(X_train_resampled, y_train_resampled)\n",
        "\n",
        "# Predict on the test data\n",
        "y_pred_best_mlp = best_mlp_clf.predict(X_test)\n",
        "\n",
        "# Evaluate the model\n",
        "print(\"Classification Report for Best MLP Classifier:\")\n",
        "print(classification_report(y_test, y_pred_best_mlp))\n",
        "\n",
        "print(\"Confusion Matrix for Best MLP Classifier:\")\n",
        "print(confusion_matrix(y_test, y_pred_best_mlp))"
      ],
      "metadata": {
        "colab": {
          "base_uri": "https://localhost:8080/"
        },
        "id": "Um6kkgEORGmO",
        "outputId": "fb3ce815-753a-4b9c-91cd-f31fbf588dc3"
      },
      "execution_count": null,
      "outputs": [
        {
          "output_type": "stream",
          "name": "stderr",
          "text": [
            "/usr/local/lib/python3.10/dist-packages/sklearn/neural_network/_multilayer_perceptron.py:691: ConvergenceWarning: Stochastic Optimizer: Maximum iterations (500) reached and the optimization hasn't converged yet.\n",
            "  warnings.warn(\n"
          ]
        },
        {
          "output_type": "stream",
          "name": "stdout",
          "text": [
            "Best Parameters: {'activation': 'tanh', 'alpha': 0.001, 'hidden_layer_sizes': (100, 50), 'learning_rate_init': 0.001, 'max_iter': 500, 'solver': 'adam'}\n",
            "Best Score: 0.6419432062076936\n",
            "Classification Report for Best MLP Classifier:\n",
            "              precision    recall  f1-score   support\n",
            "\n",
            "           0       0.72      0.63      0.67      5225\n",
            "           1       0.40      0.49      0.44      2581\n",
            "\n",
            "    accuracy                           0.59      7806\n",
            "   macro avg       0.56      0.56      0.56      7806\n",
            "weighted avg       0.61      0.59      0.60      7806\n",
            "\n",
            "Confusion Matrix for Best MLP Classifier:\n",
            "[[3303 1922]\n",
            " [1310 1271]]\n"
          ]
        },
        {
          "output_type": "stream",
          "name": "stderr",
          "text": [
            "/usr/local/lib/python3.10/dist-packages/sklearn/neural_network/_multilayer_perceptron.py:691: ConvergenceWarning: Stochastic Optimizer: Maximum iterations (500) reached and the optimization hasn't converged yet.\n",
            "  warnings.warn(\n"
          ]
        }
      ]
    },
    {
      "cell_type": "markdown",
      "source": [
        "Best Hyperparameters:\n",
        "Activation: 'tanh'\n",
        "Alpha (Regularization): 0.001\n",
        "Hidden Layer Sizes: (100, 50)\n",
        "Learning Rate Init: 0.001\n",
        "Max Iterations: 500\n",
        "Solver: 'adam'\n",
        "\n",
        "Recall for Class 1: The recall for Class 1 (recidivism) improved to 0.49, indicating that the model captures more true positive cases than before.\n",
        "Precision and Recall Balance: The precision for Class 1 is 0.40, showing a trade-off between capturing more true positives and increasing false positives.\n",
        "Overall Performance: The model shows balanced metrics across both classes, with an accuracy of 0.59."
      ],
      "metadata": {
        "id": "bkcfb0SNdQOY"
      }
    },
    {
      "cell_type": "code",
      "source": [
        "# Define a pipeline to standardize the data and train the model\n",
        "pipeline = Pipeline([\n",
        "    ('scaler', StandardScaler()),\n",
        "    ('mlp', MLPClassifier(\n",
        "        hidden_layer_sizes=(128, 64, 32),  # Deeper network with more layers\n",
        "        activation='relu',                 # ReLU activation function\n",
        "        solver='adam',                     # Adam optimizer\n",
        "        alpha=0.001,                       # Regularization term\n",
        "        learning_rate_init=0.001,          # Initial learning rate\n",
        "        max_iter=500,                      # Maximum number of iterations\n",
        "        random_state=42,\n",
        "        early_stopping=True,               # Use early stopping to prevent overfitting\n",
        "        validation_fraction=0.1,           # Fraction of training data for validation\n",
        "        n_iter_no_change=10                # Early stopping patience\n",
        "    ))\n",
        "])\n",
        "\n",
        "# Train the neural network model\n",
        "pipeline.fit(X_train_resampled, y_train_resampled)\n",
        "\n",
        "# Predict on the test data\n",
        "y_pred_deep_mlp = pipeline.predict(X_test)\n",
        "\n",
        "# Evaluate the neural network model\n",
        "print(\"Classification Report for Deep MLP Classifier:\")\n",
        "print(classification_report(y_test, y_pred_deep_mlp))\n",
        "\n",
        "print(\"Confusion Matrix for Deep MLP Classifier:\")\n",
        "print(confusion_matrix(y_test, y_pred_deep_mlp))"
      ],
      "metadata": {
        "colab": {
          "base_uri": "https://localhost:8080/"
        },
        "id": "RE5WoDu5d0v4",
        "outputId": "f3b6bf76-f8d9-4425-a8d0-e233bee121f4"
      },
      "execution_count": null,
      "outputs": [
        {
          "output_type": "stream",
          "name": "stdout",
          "text": [
            "Classification Report for Deep MLP Classifier:\n",
            "              precision    recall  f1-score   support\n",
            "\n",
            "           0       0.75      0.51      0.61      5225\n",
            "           1       0.40      0.66      0.50      2581\n",
            "\n",
            "    accuracy                           0.56      7806\n",
            "   macro avg       0.58      0.59      0.55      7806\n",
            "weighted avg       0.64      0.56      0.57      7806\n",
            "\n",
            "Confusion Matrix for Deep MLP Classifier:\n",
            "[[2654 2571]\n",
            " [ 867 1714]]\n"
          ]
        }
      ]
    },
    {
      "cell_type": "markdown",
      "source": [
        "Improved Recall for Class 1: The recall for Class 1 (recidivism) improved significantly to 0.66, indicating that the deeper network is more effective at identifying true positive cases.\n",
        "Trade-off in Precision: The precision for Class 1 is 0.40, indicating that there are still a number of false positives. This trade-off is common when focusing on improving recall.\n",
        "Moderate Performance for Class 0: The recall for Class 0 is 0.51, suggesting that the model misses a considerable number of non-recidivism cases."
      ],
      "metadata": {
        "id": "ZanT-yJMeJZx"
      }
    },
    {
      "cell_type": "code",
      "source": [],
      "metadata": {
        "id": "7dB5aB3geIXr"
      },
      "execution_count": null,
      "outputs": []
    },
    {
      "cell_type": "markdown",
      "source": [],
      "metadata": {
        "id": "TD315vWTeJ11"
      }
    }
  ]
}